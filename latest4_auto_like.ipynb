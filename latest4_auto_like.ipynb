{
  "nbformat": 4,
  "nbformat_minor": 0,
  "metadata": {
    "colab": {
      "name": "latest4_auto_like.ipynb",
      "provenance": [],
      "toc_visible": true,
      "include_colab_link": true
    },
    "kernelspec": {
      "name": "python3",
      "display_name": "Python 3"
    },
    "accelerator": "GPU"
  },
  "cells": [
    {
      "cell_type": "markdown",
      "metadata": {
        "id": "view-in-github",
        "colab_type": "text"
      },
      "source": [
        "<a href=\"https://colab.research.google.com/github/nheyhey/Python/blob/master/latest4_auto_like.ipynb\" target=\"_parent\"><img src=\"https://colab.research.google.com/assets/colab-badge.svg\" alt=\"Open In Colab\"/></a>"
      ]
    },
    {
      "cell_type": "markdown",
      "metadata": {
        "id": "0p9ZJ6TqDkgu",
        "colab_type": "text"
      },
      "source": [
        "# ドライブマウント"
      ]
    },
    {
      "cell_type": "code",
      "metadata": {
        "id": "6Hne0Vf_DqnD",
        "colab_type": "code",
        "outputId": "345bd6b6-358c-4a37-b6eb-a191ff1aafd9",
        "colab": {
          "base_uri": "https://localhost:8080/",
          "height": 54
        }
      },
      "source": [
        "from google.colab import drive\n",
        "drive.mount('/content/drive')"
      ],
      "execution_count": 66,
      "outputs": [
        {
          "output_type": "stream",
          "text": [
            "Drive already mounted at /content/drive; to attempt to forcibly remount, call drive.mount(\"/content/drive\", force_remount=True).\n"
          ],
          "name": "stdout"
        }
      ]
    },
    {
      "cell_type": "markdown",
      "metadata": {
        "id": "M2CwAz55C-cu",
        "colab_type": "text"
      },
      "source": [
        "# ライブラリ"
      ]
    },
    {
      "cell_type": "code",
      "metadata": {
        "id": "el4mQ7UHIH2O",
        "colab_type": "code",
        "colab": {}
      },
      "source": [
        "# !pip install selenium"
      ],
      "execution_count": 0,
      "outputs": []
    },
    {
      "cell_type": "code",
      "metadata": {
        "id": "3uPv7LnMLZYI",
        "colab_type": "code",
        "colab": {}
      },
      "source": [
        "# !apt-get update"
      ],
      "execution_count": 0,
      "outputs": []
    },
    {
      "cell_type": "code",
      "metadata": {
        "id": "elCXTzEoLdoo",
        "colab_type": "code",
        "colab": {}
      },
      "source": [
        "# !apt install chromium-chromedriver"
      ],
      "execution_count": 0,
      "outputs": []
    },
    {
      "cell_type": "code",
      "metadata": {
        "id": "5ovkFGS1Li32",
        "colab_type": "code",
        "colab": {}
      },
      "source": [
        "# !cp /usr/lib/chromium-browser/chromedriver /usr/bin"
      ],
      "execution_count": 0,
      "outputs": []
    },
    {
      "cell_type": "code",
      "metadata": {
        "id": "ZmuZrqjkC1Hm",
        "colab_type": "code",
        "colab": {}
      },
      "source": [
        "from selenium import webdriver\n",
        "from selenium.webdriver.chrome.options import Options\n",
        "import time\n",
        "from selenium.webdriver.common.keys import Keys"
      ],
      "execution_count": 0,
      "outputs": []
    },
    {
      "cell_type": "code",
      "metadata": {
        "id": "6CIK__VlEP0e",
        "colab_type": "code",
        "outputId": "2b5dacd1-c516-4c61-907f-df540cbd5045",
        "colab": {
          "base_uri": "https://localhost:8080/",
          "height": 51
        }
      },
      "source": [
        "options = webdriver.ChromeOptions()\n",
        "options.add_argument('--headless')\n",
        "options.add_argument('--no-sandbox')\n",
        "options.add_argument('--disable-dev-shm-usage')\n",
        "driver = webdriver.Chrome('chromedriver',options=options)\n",
        "driver.implicitly_wait(10)\n",
        "driver.get(\"https://www.instagram.com/accounts/login/?source=auth_switcher\") #instagramにアクセス\n",
        "\n",
        "#ログイン\n",
        "driver.find_element_by_name('username').send_keys(\"npaypaypay\") #ユーザーネームを入力\n",
        "driver.find_element_by_name('password').send_keys(\"mayu8991\") #パスワードを入力\n",
        "driver.find_element_by_name('password').send_keys(Keys.RETURN) #ログイン\n",
        "print('ログイン成功')\n",
        "\n",
        "time.sleep(5) #ちょっと待つ\n",
        "\n",
        "#最新4投稿いいねする\n",
        "elements = driver.find_elements_by_class_name('fr66n')\n",
        "for i in range(len(elements)):\n",
        "  driver.find_elements_by_class_name('fr66n')[i].click()\n",
        "\n",
        "print(len(elements),'件いいねしました')"
      ],
      "execution_count": 88,
      "outputs": [
        {
          "output_type": "stream",
          "text": [
            "ログイン成功\n",
            "4 件いいねしました\n"
          ],
          "name": "stdout"
        }
      ]
    },
    {
      "cell_type": "code",
      "metadata": {
        "id": "-VVN5VGGEsz7",
        "colab_type": "code",
        "colab": {}
      },
      "source": [
        "driver.close()\n",
        "driver.quit()"
      ],
      "execution_count": 0,
      "outputs": []
    },
    {
      "cell_type": "code",
      "metadata": {
        "id": "tunkRuh7Q6Er",
        "colab_type": "code",
        "colab": {}
      },
      "source": [
        ""
      ],
      "execution_count": 0,
      "outputs": []
    }
  ]
}