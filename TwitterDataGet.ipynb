{
  "nbformat": 4,
  "nbformat_minor": 0,
  "metadata": {
    "kernelspec": {
      "display_name": "Python 3",
      "language": "python",
      "name": "python3"
    },
    "language_info": {
      "codemirror_mode": {
        "name": "ipython",
        "version": 3
      },
      "file_extension": ".py",
      "mimetype": "text/x-python",
      "name": "python",
      "nbconvert_exporter": "python",
      "pygments_lexer": "ipython3",
      "version": "3.7.3"
    },
    "colab": {
      "name": "TwitterDataGet.ipynb",
      "provenance": [],
      "toc_visible": true,
      "include_colab_link": true
    }
  },
  "cells": [
    {
      "cell_type": "markdown",
      "metadata": {
        "id": "view-in-github",
        "colab_type": "text"
      },
      "source": [
        "<a href=\"https://colab.research.google.com/github/nheyhey/Python/blob/master/TwitterDataGet.ipynb\" target=\"_parent\"><img src=\"https://colab.research.google.com/assets/colab-badge.svg\" alt=\"Open In Colab\"/></a>"
      ]
    },
    {
      "cell_type": "markdown",
      "metadata": {
        "id": "T2EvYiefJa2f",
        "colab_type": "text"
      },
      "source": [
        "# ドライブマウント"
      ]
    },
    {
      "cell_type": "code",
      "metadata": {
        "id": "QXc892Lo_NMN",
        "colab_type": "code",
        "colab": {}
      },
      "source": [
        "from google.colab import drive\n",
        "drive.mount('/content/drive')"
      ],
      "execution_count": 0,
      "outputs": []
    },
    {
      "cell_type": "markdown",
      "metadata": {
        "id": "GFpH0rKV-d9A",
        "colab_type": "text"
      },
      "source": [
        "# Tweetを検索"
      ]
    },
    {
      "cell_type": "markdown",
      "metadata": {
        "id": "LtcIln7_-d9B",
        "colab_type": "text"
      },
      "source": [
        "「佐原」を本文に含むツイートをデータベースにインポートする。"
      ]
    },
    {
      "cell_type": "code",
      "metadata": {
        "id": "OPqDv_k_-d9C",
        "colab_type": "code",
        "colab": {}
      },
      "source": [
        "!pip install tweepy"
      ],
      "execution_count": 0,
      "outputs": []
    },
    {
      "cell_type": "code",
      "metadata": {
        "id": "EBxpArsc-d9G",
        "colab_type": "code",
        "colab": {}
      },
      "source": [
        "twid_list = []\n",
        "user_list = []\n",
        "full_tweet_list = []\n",
        "favo_list = []\n",
        "retw_list = []\n",
        "date_list = []\n",
        "description_list = []\n",
        "friends_count_list = []\n",
        "followers_count_list = []\n",
        "location_list = []\n",
        "created_at_list = []\n",
        "coordinates_list = []"
      ],
      "execution_count": 0,
      "outputs": []
    },
    {
      "cell_type": "code",
      "metadata": {
        "id": "fxwNtGJ0-d9K",
        "colab_type": "code",
        "colab": {}
      },
      "source": [
        "import tweepy\n",
        "\n",
        "\n",
        "### Twitter API KEY\n",
        "Consumer_key = ''\n",
        "Consumer_secret = ''\n",
        "Access_token = ''\n",
        "Access_secret = ''\n",
        "\n",
        "### TwitterAPI認証用関数\n",
        "def authTwitter():\n",
        "    auth = tweepy.OAuthHandler(Consumer_key, Consumer_secret)\n",
        "    auth.set_access_token(Access_token, Access_secret)\n",
        "    api = tweepy.API(auth, wait_on_rate_limit = True) # API利用制限にかかった場合、解除まで待機する\n",
        "    return(api)\n",
        "\n",
        "### Tweetの検索結果を標準出力\n",
        "def printTweetBySearch(s):\n",
        "    \n",
        "    \n",
        "    api = authTwitter() # 認証\n",
        "  \n",
        "    tweets = tweepy.Cursor(api.search, q = s,        # APIの種類と検索文字列\n",
        "                         include_entities = True,  # 省略されたリンクを全て取得\n",
        "                         tweet_mode = 'extended',  # 省略されたツイートを全て取得\n",
        "                         lang = 'ja').items()       # 日本のツイートのみ取得\n",
        "                         \n",
        "    for tweet in tweets:\n",
        "        if tweet.created_at.year==2019 and tweet.created_at.month==9: #2019年9月のツイートに限定する\n",
        "            twid_list.append(tweet.id) # tweetのIDを出力。ユニークなもの\n",
        "            user_list.append(tweet.user.screen_name) # ユーザー名\n",
        "            description_list.append(tweet.user.description) #ユーザーのプロフィール部分\n",
        "            friends_count_list.append(tweet.user.friends_count) #フォロー数\n",
        "            followers_count_list.append(tweet.user.followers_count) #フォロワー数\n",
        "            location_list.append(tweet.user.location) #住んでるところ\n",
        "            created_at_list.append(tweet.user.created_at) #ユーザーの登録日\n",
        "            coordinates_list.append(tweet.coordinates) #緯度経度\n",
        "            full_tweet_list.append(tweet.full_text) # ツイート内容\n",
        "            favo_list.append(tweet.favorite_count) # ツイートのいいね数\n",
        "            retw_list.append(tweet.retweet_count) # ツイートのリツイート数\n",
        "            date_list.append(tweet.created_at) #呟いた日\n",
        "            \n",
        "\n"
      ],
      "execution_count": 0,
      "outputs": []
    },
    {
      "cell_type": "code",
      "metadata": {
        "id": "8EEzsstC-d9N",
        "colab_type": "code",
        "colab": {}
      },
      "source": [
        "printTweetBySearch('佐原 exclude:retweets') #\"佐原\"を含むツイートを取得する"
      ],
      "execution_count": 0,
      "outputs": []
    },
    {
      "cell_type": "markdown",
      "metadata": {
        "id": "P52p0wqv-d9V",
        "colab_type": "text"
      },
      "source": [
        "# データフレームにしてcsv出力"
      ]
    },
    {
      "cell_type": "code",
      "metadata": {
        "id": "M-EZDKEE-d9W",
        "colab_type": "code",
        "colab": {
          "base_uri": "https://localhost:8080/",
          "height": 221
        },
        "outputId": "4e3c1f4e-6b9a-4b89-d922-cb191d2038ab"
      },
      "source": [
        "#長さの確認\n",
        "print(len(twid_list))\n",
        "print(len(user_list))\n",
        "print(len(full_tweet_list))\n",
        "print(len(favo_list))\n",
        "print(len(retw_list))\n",
        "print(len(date_list))\n",
        "print(len(description_list))\n",
        "print(len(friends_count_list))\n",
        "print(len(followers_count_list))\n",
        "print(len(location_list))\n",
        "print(len(created_at_list))\n",
        "print(len(coordinates_list))"
      ],
      "execution_count": 4,
      "outputs": [
        {
          "output_type": "stream",
          "text": [
            "1032\n",
            "1032\n",
            "1032\n",
            "1032\n",
            "1032\n",
            "1032\n",
            "1032\n",
            "1032\n",
            "1032\n",
            "1032\n",
            "1032\n",
            "1032\n"
          ],
          "name": "stdout"
        }
      ]
    },
    {
      "cell_type": "code",
      "metadata": {
        "id": "gtdE1egW-d9Z",
        "colab_type": "code",
        "colab": {}
      },
      "source": [
        "import pandas as pd\n",
        "Sawara_twitter_data = sawara_twitter_date = pd.DataFrame({'twid':twid_list,\n",
        "                                   'user':user_list,\n",
        "                                   'full_tweet':full_tweet_list,\n",
        "                                   'favo':favo_list,\n",
        "                                   'retw':retw_list,\n",
        "                                   'date':date_list,\n",
        "                                   'description':description_list,\n",
        "                                   'follow':friends_count_list,\n",
        "                                   'follower':followers_count_list,\n",
        "                                   'location':location_list,\n",
        "                                   'create':created_at_list,\n",
        "                                   'coordinates':coordinates_list})"
      ],
      "execution_count": 0,
      "outputs": []
    },
    {
      "cell_type": "code",
      "metadata": {
        "id": "1vrmvXcL-d9c",
        "colab_type": "code",
        "colab": {}
      },
      "source": [
        "sawara_twitter_date.to_csv('/content/drive/My Drive/python/sawara_twitter/sawara_twitter_date.csv',index = False)"
      ],
      "execution_count": 0,
      "outputs": []
    },
    {
      "cell_type": "code",
      "metadata": {
        "id": "7nuDpSW3-d9f",
        "colab_type": "code",
        "colab": {}
      },
      "source": [
        "sawara_twitter_date.head()"
      ],
      "execution_count": 0,
      "outputs": []
    },
    {
      "cell_type": "markdown",
      "metadata": {
        "id": "btCMiVA7A0t1",
        "colab_type": "text"
      },
      "source": [
        "# ニフクラ接続"
      ]
    },
    {
      "cell_type": "code",
      "metadata": {
        "colab_type": "code",
        "id": "kqlVcG4tA7L-",
        "colab": {}
      },
      "source": [
        "from py_nifty_cloud.nifty_cloud_request import NiftyCloudRequest"
      ],
      "execution_count": 0,
      "outputs": []
    },
    {
      "cell_type": "code",
      "metadata": {
        "colab_type": "code",
        "id": "W9yESA6uA7MI",
        "colab": {}
      },
      "source": [
        "ncr = NiftyCloudRequest('./nifty_cloud.yml') #application keyとclient keyを書いた、ymlファイルを作成しておく。"
      ],
      "execution_count": 0,
      "outputs": []
    },
    {
      "cell_type": "markdown",
      "metadata": {
        "colab_type": "text",
        "id": "3kHy3A2PBA3i"
      },
      "source": [
        "# 結果をニフクラのデータストアに置く場合"
      ]
    },
    {
      "cell_type": "code",
      "metadata": {
        "colab_type": "code",
        "id": "rzGkYI1mBA3j",
        "colab": {}
      },
      "source": [
        "path = '/classes/Sawara_Twitter'\n",
        "method = 'POST'\n",
        "\n",
        "  # post a new recode\n",
        "for i in range(len(twid_list)):\n",
        "    values = {'twid': twid_list[i],'user': user_list[i],\n",
        "                 'full_tweet':full_tweet_list[i],\n",
        "                 'favo':favo_list[i],'retw':retw_list[i]}\n",
        "\n",
        "    response = ncr.post(path=path, query=values)\n",
        "#     print(response.status_code)\n"
      ],
      "execution_count": 0,
      "outputs": []
    }
  ]
}